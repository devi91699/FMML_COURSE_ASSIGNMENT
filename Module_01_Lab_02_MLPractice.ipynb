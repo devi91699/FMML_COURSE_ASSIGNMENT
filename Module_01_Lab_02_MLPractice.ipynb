{
  "nbformat": 4,
  "nbformat_minor": 0,
  "metadata": {
    "colab": {
      "provenance": [],
      "include_colab_link": true
    },
    "kernelspec": {
      "name": "python3",
      "display_name": "Python 3"
    },
    "language_info": {
      "name": "python"
    }
  },
  "cells": [
    {
      "cell_type": "markdown",
      "metadata": {
        "id": "view-in-github",
        "colab_type": "text"
      },
      "source": [
        "<a href=\"https://colab.research.google.com/github/devi91699/FMML_COURSE_ASSIGNMENT/blob/main/Module_01_Lab_02_MLPractice.ipynb\" target=\"_parent\"><img src=\"https://colab.research.google.com/assets/colab-badge.svg\" alt=\"Open In Colab\"/></a>"
      ]
    },
    {
      "cell_type": "markdown",
      "metadata": {
        "id": "3Eu9VZbF01eq"
      },
      "source": [
        "# Machine learning terms and metrics\n",
        "\n",
        "FMML Module 1, Lab 2<br>\n",
        "\n",
        "\n",
        " In this lab, we will show a part of the ML pipeline by extracting features, training and testing"
      ]
    },
    {
      "cell_type": "code",
      "metadata": {
        "id": "8qBvyEem0vLi"
      },
      "source": [
        "import matplotlib.pyplot as plt\n",
        "import numpy as np\n",
        "from sklearn import datasets\n",
        "# set randomseed\n",
        "rng = np.random.default_rng(seed=42)"
      ],
      "execution_count": 1,
      "outputs": []
    },
    {
      "cell_type": "markdown",
      "metadata": {
        "id": "u3t59g5s1HfC"
      },
      "source": [
        "In this lab, we will use the California Housing dataset. There are 20640 samples, each with 8 attributes like income of the block, age of the houses per district etc. The task is to predict the cost of the houses per district.\n",
        "\n",
        "Let us download and examine the dataset."
      ]
    },
    {
      "cell_type": "code",
      "metadata": {
        "id": "8LpqjN991GGJ",
        "colab": {
          "base_uri": "https://localhost:8080/"
        },
        "outputId": "fea64cf7-57e9-4c3e-8fa4-97d6c1bbe91e"
      },
      "source": [
        " dataset =  datasets.fetch_california_housing()\n",
        " # print(dataset.DESCR)  # uncomment this if you want to know more about this dataset\n",
        " # print(dataset.keys())  # if you want to know what else is there in this dataset\n",
        " dataset.target = dataset.target.astype(np.int) # so that we can classify\n",
        " print(dataset.data.shape)\n",
        " print(dataset.target.shape)"
      ],
      "execution_count": 2,
      "outputs": [
        {
          "output_type": "stream",
          "name": "stdout",
          "text": [
            "(20640, 8)\n",
            "(20640,)\n"
          ]
        },
        {
          "output_type": "stream",
          "name": "stderr",
          "text": [
            "<ipython-input-2-60ae2e9a125e>:4: DeprecationWarning: `np.int` is a deprecated alias for the builtin `int`. To silence this warning, use `int` by itself. Doing this will not modify any behavior and is safe. When replacing `np.int`, you may wish to use e.g. `np.int64` or `np.int32` to specify the precision. If you wish to review your current use, check the release note link for additional information.\n",
            "Deprecated in NumPy 1.20; for more details and guidance: https://numpy.org/devdocs/release/1.20.0-notes.html#deprecations\n",
            "  dataset.target = dataset.target.astype(np.int) # so that we can classify\n"
          ]
        }
      ]
    },
    {
      "cell_type": "markdown",
      "metadata": {
        "id": "iNx4174W5xRg"
      },
      "source": [
        "Here is a function for calculating the 1-nearest neighbours"
      ]
    },
    {
      "cell_type": "code",
      "metadata": {
        "id": "07zpydQj1hIQ"
      },
      "source": [
        "def NN1(traindata, trainlabel, query):\n",
        "  diff  = traindata - query  # find the difference between features. Numpy automatically takes care of the size here\n",
        "  sq = diff*diff # square the differences\n",
        "  dist = sq.sum(1) # add up the squares\n",
        "  label = trainlabel[np.argmin(dist)] # our predicted label is the label of the training data which has the least distance from the query\n",
        "  return label\n",
        "\n",
        "def NN(traindata, trainlabel, testdata):\n",
        "  # we will run nearest neighbour for each sample in the test data\n",
        "  # and collect the predicted classes in an array using list comprehension\n",
        "  predlabel = np.array([NN1(traindata, trainlabel, i) for i in testdata])\n",
        "  return predlabel"
      ],
      "execution_count": 3,
      "outputs": []
    },
    {
      "cell_type": "markdown",
      "metadata": {
        "id": "03JktkfIGaje"
      },
      "source": [
        "We will also define a 'random classifier', which randomly allots labels to each sample"
      ]
    },
    {
      "cell_type": "code",
      "metadata": {
        "id": "fogWAtjyGhAH"
      },
      "source": [
        "def RandomClassifier(traindata, trainlabel, testdata):\n",
        "  # in reality, we don't need these arguments\n",
        "\n",
        "  classes = np.unique(trainlabel)\n",
        "  rints = rng.integers(low=0, high=len(classes), size=len(testdata))\n",
        "  predlabel = classes[rints]\n",
        "  return predlabel"
      ],
      "execution_count": 4,
      "outputs": []
    },
    {
      "cell_type": "markdown",
      "metadata": {
        "id": "1Hjf1KHs7fU5"
      },
      "source": [
        "Let us define a metric 'Accuracy' to see how good our learning algorithm is. Accuracy is the ratio of the number of correctly classified samples to the total number of samples. The higher the accuracy, the better the algorithm."
      ]
    },
    {
      "cell_type": "code",
      "metadata": {
        "id": "ouuCqWU07bz-"
      },
      "source": [
        "def Accuracy(gtlabel, predlabel):\n",
        "  assert len(gtlabel)==len(predlabel), \"Length of the groundtruth labels and predicted labels should be the same\"\n",
        "  correct = (gtlabel==predlabel).sum() # count the number of times the groundtruth label is equal to the predicted label.\n",
        "  return correct/len(gtlabel)"
      ],
      "execution_count": 5,
      "outputs": []
    },
    {
      "cell_type": "markdown",
      "metadata": {
        "id": "4vJFwBFa9Klw"
      },
      "source": [
        "Let us make a function to split the dataset with the desired probability."
      ]
    },
    {
      "cell_type": "code",
      "metadata": {
        "id": "Ko0VzpSM2Tdi"
      },
      "source": [
        "def split(data, label, percent):\n",
        "  # generate a random number for each sample\n",
        "  rnd = rng.random(len(label))\n",
        "  split1 = rnd<percent\n",
        "  split2 = rnd>=percent\n",
        "  split1data = data[split1,:]\n",
        "  split1label = label[split1]\n",
        "  split2data = data[split2,:]\n",
        "  split2label = label[split2]\n",
        "  return split1data, split1label, split2data, split2label"
      ],
      "execution_count": 6,
      "outputs": []
    },
    {
      "cell_type": "markdown",
      "metadata": {
        "id": "AcK3LEAJ_LGC"
      },
      "source": [
        "We will reserve 20% of our dataset as the test set. We will not change this portion throughout our experiments"
      ]
    },
    {
      "cell_type": "code",
      "metadata": {
        "id": "bBZkHBLJ1iU-",
        "colab": {
          "base_uri": "https://localhost:8080/"
        },
        "outputId": "64f5a1e0-57c5-4e48-a80a-f42132657bc4"
      },
      "source": [
        "testdata, testlabel, alltraindata, alltrainlabel = split(dataset.data, dataset.target, 20/100)\n",
        "print('Number of test samples = ', len(testlabel))\n",
        "print('Number of other samples = ', len(alltrainlabel))\n",
        "print('Percent of test data = ', len(testlabel)*100/len(dataset.target),'%')"
      ],
      "execution_count": 7,
      "outputs": [
        {
          "output_type": "stream",
          "name": "stdout",
          "text": [
            "Number of test samples =  4144\n",
            "Number of other samples =  16496\n",
            "Percent of test data =  20.07751937984496 %\n"
          ]
        }
      ]
    },
    {
      "cell_type": "markdown",
      "metadata": {
        "id": "a6Ss0Z6IAGNV"
      },
      "source": [
        "## Experiments with splits\n",
        "\n",
        "Let us reserve some of our train data as a validation set"
      ]
    },
    {
      "cell_type": "code",
      "metadata": {
        "id": "WFew2iry_7W7"
      },
      "source": [
        "traindata, trainlabel, valdata, vallabel = split(alltraindata, alltrainlabel, 75/100)"
      ],
      "execution_count": 8,
      "outputs": []
    },
    {
      "cell_type": "markdown",
      "metadata": {
        "id": "60hiu4clFN1i"
      },
      "source": [
        "What is the accuracy of our classifiers on the train dataset?"
      ]
    },
    {
      "cell_type": "code",
      "metadata": {
        "id": "DBlZDTHUFTZx",
        "colab": {
          "base_uri": "https://localhost:8080/"
        },
        "outputId": "b4de2050-db75-4ebf-a25a-3ab491d2ef18"
      },
      "source": [
        "trainpred = NN(traindata, trainlabel, traindata)\n",
        "trainAccuracy = Accuracy(trainlabel, trainpred)\n",
        "print(\"Train accuracy using nearest neighbour is \", trainAccuracy)\n",
        "\n",
        "trainpred = RandomClassifier(traindata, trainlabel, traindata)\n",
        "trainAccuracy = Accuracy(trainlabel, trainpred)\n",
        "print(\"Train accuracy using random classifier is \", trainAccuracy)"
      ],
      "execution_count": 9,
      "outputs": [
        {
          "output_type": "stream",
          "name": "stdout",
          "text": [
            "Train accuracy using nearest neighbour is  1.0\n",
            "Train accuracy using random classifier is  0.164375808538163\n"
          ]
        }
      ]
    },
    {
      "cell_type": "markdown",
      "metadata": {
        "id": "7h08-9gJDtSy"
      },
      "source": [
        "For nearest neighbour, the train accuracy is always 1. The accuracy of the random classifier is close to 1/(number of classes) which is 0.1666 in our case.\n",
        "\n",
        "Let us predict the labels for our validation set and get the accuracy"
      ]
    },
    {
      "cell_type": "code",
      "metadata": {
        "id": "4h7bXoW_2H3v",
        "colab": {
          "base_uri": "https://localhost:8080/"
        },
        "outputId": "077b6cec-1f7c-4c91-a2d6-e5c5e7f54d8d"
      },
      "source": [
        "valpred = NN(traindata, trainlabel, valdata)\n",
        "valAccuracy = Accuracy(vallabel, valpred)\n",
        "print(\"Validation accuracy using nearest neighbour is \", valAccuracy)\n",
        "\n",
        "valpred = RandomClassifier(traindata, trainlabel, valdata)\n",
        "valAccuracy = Accuracy(vallabel, valpred)\n",
        "print(\"Validation accuracy using random classifier is \", valAccuracy)"
      ],
      "execution_count": 10,
      "outputs": [
        {
          "output_type": "stream",
          "name": "stdout",
          "text": [
            "Validation accuracy using nearest neighbour is  0.34108527131782945\n",
            "Validation accuracy using random classifier is  0.1688468992248062\n"
          ]
        }
      ]
    },
    {
      "cell_type": "markdown",
      "metadata": {
        "id": "py9bLguFEjfg"
      },
      "source": [
        "Validation accuracy of nearest neighbour is considerably less than its train accuracy while the validation accuracy of random classifier is the same. However, the validation accuracy of nearest neighbour is twice that of the random classifier.\n",
        "\n",
        "Now let us try another random split and check the validation accuracy"
      ]
    },
    {
      "cell_type": "code",
      "metadata": {
        "id": "ujm3cyYzEntE",
        "colab": {
          "base_uri": "https://localhost:8080/"
        },
        "outputId": "baf87e5f-1b9e-48b6-dbe7-090e063b814b"
      },
      "source": [
        "traindata, trainlabel, valdata, vallabel = split(alltraindata, alltrainlabel, 75/100)\n",
        "valpred = NN(traindata, trainlabel, valdata)\n",
        "valAccuracy = Accuracy(vallabel, valpred)\n",
        "print(\"Validation accuracy of nearest neighbour is \", valAccuracy)"
      ],
      "execution_count": 11,
      "outputs": [
        {
          "output_type": "stream",
          "name": "stdout",
          "text": [
            "Validation accuracy of nearest neighbour is  0.34048257372654156\n"
          ]
        }
      ]
    },
    {
      "cell_type": "markdown",
      "metadata": {
        "id": "oSOx7U83EKie"
      },
      "source": [
        "You can run the above cell multiple times to try with different random splits.\n",
        "We notice that the accuracy is different for each run, but close together.\n",
        "\n",
        "Now let us compare it with the accuracy we get on the test dataset."
      ]
    },
    {
      "cell_type": "code",
      "metadata": {
        "id": "PNEZ5ToYBEDW",
        "colab": {
          "base_uri": "https://localhost:8080/"
        },
        "outputId": "3eee0d79-0078-4267-c51b-88b7d9cb8b24"
      },
      "source": [
        "testpred = NN(alltraindata, alltrainlabel, testdata)\n",
        "testAccuracy = Accuracy(testlabel, testpred)\n",
        "print('Test accuracy is ', testAccuracy)"
      ],
      "execution_count": 12,
      "outputs": [
        {
          "output_type": "stream",
          "name": "stdout",
          "text": [
            "Test accuracy is  0.34917953667953666\n"
          ]
        }
      ]
    },
    {
      "cell_type": "markdown",
      "metadata": {
        "id": "w3dGD531K3gH"
      },
      "source": [
        "### Try it out for yourself and answer:\n",
        "1. How is the accuracy of the validation set affected if we increase the percentage of validation set? What happens when we reduce it?\n",
        "2. How does the size of the train and validation set affect how well we can predict the accuracy on the test set using the validation set?\n",
        "3. What do you think is a good percentage to reserve for the validation set so that thest two factors are balanced?\n",
        "\n",
        "Answer for both nearest neighbour and random classifier. You can note down the values for your experiments and plot a graph using  <a href=https://matplotlib.org/stable/gallery/lines_bars_and_markers/step_demo.html#sphx-glr-gallery-lines-bars-and-markers-step-demo-py>plt.plot<href>. Check also for extreme values for splits, like 99.9% or 0.1%"
      ]
    },
    {
      "cell_type": "markdown",
      "metadata": {
        "id": "PnYvkAZLQY7h"
      },
      "source": [
        "## Multiple Splits\n",
        "\n",
        "One way to get more accurate estimates for the test accuracy is by using <b>crossvalidation</b>. Here, we will try a simple version, where we do multiple train/val splits and take the average of validation accuracies as the test accuracy estimation. Here is a function for doing this. Note that this function will take a long time to execute."
      ]
    },
    {
      "cell_type": "code",
      "metadata": {
        "id": "E4nGCUQXBTzo"
      },
      "source": [
        "# you can use this function for random classifier also\n",
        "def AverageAccuracy(alldata, alllabel, splitpercent, iterations, classifier=NN):\n",
        "  accuracy = 0\n",
        "  for ii in range(iterations):\n",
        "    traindata, trainlabel, valdata, vallabel = split(alldata, alllabel, splitpercent)\n",
        "    valpred = classifier(traindata, trainlabel, valdata)\n",
        "    accuracy += Accuracy(vallabel, valpred)\n",
        "  return accuracy/iterations # average of all accuracies"
      ],
      "execution_count": 13,
      "outputs": []
    },
    {
      "cell_type": "code",
      "metadata": {
        "id": "H3qtNar7Bbik",
        "colab": {
          "base_uri": "https://localhost:8080/"
        },
        "outputId": "836b0728-a4f2-4a63-aa39-ed4b83c2284a"
      },
      "source": [
        "print('Average validation accuracy is ', AverageAccuracy(alltraindata, alltrainlabel, 75/100, 10, classifier=NN))\n",
        "testpred = NN(alltraindata, alltrainlabel, testdata)\n",
        "print('test accuracy is ',Accuracy(testlabel, testpred) )"
      ],
      "execution_count": 14,
      "outputs": [
        {
          "output_type": "stream",
          "name": "stdout",
          "text": [
            "Average validation accuracy is  0.33584635395170215\n",
            "test accuracy is  0.34917953667953666\n"
          ]
        }
      ]
    },
    {
      "cell_type": "markdown",
      "metadata": {
        "id": "33GIn4x5VH-d"
      },
      "source": [
        "This is a very simple way of doing cross-validation. There are many well-known algorithms for cross-validation, like k-fold cross-validation, leave-one-out etc. This will be covered in detail in a later module. For more information about cross-validation, check <a href=https://en.wikipedia.org/wiki/Cross-validation_(statistics)>Cross-validatioin (Wikipedia)</a>\n",
        "\n",
        "### Questions\n",
        "1. Does averaging the validation accuracy across multiple splits give more consistent results?\n",
        "2. Does it give more accurate estimate of test accuracy?\n",
        "3. What is the effect of the number of iterations on the estimate? Do we get a better estimate with higher iterations?\n",
        "4. Consider the results you got for the previous questions. Can we deal with a very small train dataset or validation dataset by increasing the iterations?\n"
      ]
    },
    {
      "cell_type": "markdown",
      "source": [
        "# **1st answer**\n",
        "\n",
        "Averaging validation accuracy across multiple splits can indeed provide more consistent and reliable results when evaluating the performance of a machine learning model. This technique is commonly known as cross-validation, and it helps address issues related to the randomness of the data split into training and validation sets. Here's why it's beneficial:\n",
        "\n",
        "**Reduced Varianc**e: When you split your dataset into a single training set and a single validation set, the performance of your model can be sensitive to the specific data points in those sets. Averaging results over multiple splits reduces this sensitivity, making the evaluation more stable.\n",
        "\n",
        "**Better Generalization Estimate**: By repeatedly training and evaluating the model on different subsets of the data, cross-validation provides a more robust estimate of how well your model is likely to generalize to unseen data. It reduces the risk of overfitting to a particular validation set.\n",
        "\n",
        "**Improved Confidence Intervals**: When you calculate the mean and standard deviation of validation accuracy over multiple splits, you can also compute confidence intervals. This helps you understand the range of possible model performances and provides a measure of your confidence in the reported accuracy.\n",
        "\n",
        "Common cross-validation techniques include k-fold cross-validation and stratified k-fold cross-validation, where the dataset is divided into 'k' subsets or folds, and the model is trained and validated 'k' times, with each fold used as the validation set once. The final evaluation metric is typically the average of the individual validation results.\n",
        "\n",
        "In summary, averaging validation accuracy across multiple splits through cross-validation is a standard practice in machine learning because it provides more consistent and reliable results, helping you make better decisions about your model's performance and generalization ability.\n",
        "\n",
        "\n",
        "\n",
        "\n",
        "\n"
      ],
      "metadata": {
        "id": "uBOwmGZaKUkb"
      }
    },
    {
      "cell_type": "markdown",
      "source": [
        "# **2nd answer**\n",
        "Cross-validation, which involves averaging validation accuracy across multiple splits, does not directly provide a more accurate estimate of test accuracy. Instead, it provides a more accurate estimate of how well your model is likely to generalize to unseen data, which is what test accuracy aims to measure.\n",
        "\n",
        "Here's the distinction:\n",
        "\n",
        "**Validation Accuracy**: During cross-validation, you partition your dataset into training and validation sets multiple times. You train your model on the training set and evaluate it on the validation set in each fold. The purpose of this is to assess how well your model is performing on data it hasn't seen during training. Averaging these validation accuracies provides a more reliable estimate of how your model might perform on unseen data from the same distribution as your training data.\n",
        "\n",
        "**Test Accuracy**: Test accuracy is the measure of how well your model performs on a completely independent dataset that it has never encountered during training or cross-validation. This dataset is used to assess how well your model generalizes to entirely new and unseen examples. Test accuracy is a critical metric because it tells you how well your model is likely to perform in real-world scenarios.\n",
        "\n",
        "While cross-validation gives you a better understanding of your model's performance on your available data and helps you tune hyperparameters and make model selection decisions, it doesn't replace the need for a separate, held-out test set. The test set provides an unbiased estimate of how your model will perform in production or on new, unseen data.\n",
        "\n",
        "So, cross-validation doesn't directly estimate test accuracy, but it indirectly helps you build models that are more likely to perform well on unseen data by giving you a better sense of your model's generalization capabilities. To get an accurate estimate of test accuracy, you should reserve a portion of your data specifically for testing and evaluate your model on it only once, after all model development and hyperparameter tuning are complete.\n"
      ],
      "metadata": {
        "id": "5f9N8W4NKucn"
      }
    },
    {
      "cell_type": "markdown",
      "source": [
        "# **3rd answer**\n",
        "\n",
        "The number of iterations (or folds) in cross-validation can have an impact on the estimate of model performance. However, there is a trade-off involved, and simply increasing the number of iterations does not necessarily guarantee a better estimate. Here are some key points to consider:\n",
        "\n",
        "**Bias-Variance Trade-Off**: Cross-validation involves partitioning your data into training and validation sets multiple times (k times in k-fold cross-validation). The choice of 'k' affects the bias-variance trade-off:\n",
        "\n",
        "* Smaller 'k' (e.g., 5 or 10) results in a higher variance estimate of model performance. This is because each validation set is smaller, and the model's performance can vary significantly depending on the specific validation data.\n",
        "* Larger 'k' results in a lower variance estimate but may introduce bias because each validation set is larger, and it may not capture variations in the data as effectively.\n",
        "\n",
        "**Computation Time**: Increasing the number of iterations increases the computational cost of cross-validation. This can be a concern, especially with large datasets or complex models. You need to strike a balance between computational resources and the quality of the estimate.\n",
        "\n",
        "**Stability of Estimate**: In practice, you often see diminishing returns in terms of estimate stability as you increase the number of iterations. For example, going from 5-fold to 10-fold cross-validation may provide a noticeable improvement in estimate stability, but going from 10-fold to 20-fold may not provide as much additional benefit.\n",
        "\n",
        "**Stratification**: In some cases, you may want to use stratified cross-validation, especially if your dataset has class imbalance. Stratified cross-validation ensures that each fold maintains the same class distribution as the whole dataset. This can be important for accurate estimates, and you may need to consider this when choosing the number of iterations.\n",
        "\n",
        "In summary, there is no one-size-fits-all answer to the question of whether a higher number of iterations leads to a better estimate in cross-validation. The choice of 'k' (the number of iterations) should be made based on factors such as the dataset size, computational resources, and the desired trade-off between bias and variance in the estimate. It's often a good practice to start with a reasonable 'k', evaluate the results, and consider increasing it if necessary to achieve more stable estimates, but be mindful of the potential computational costs.\n",
        "\n",
        "\n",
        "\n",
        "\n"
      ],
      "metadata": {
        "id": "1qLuaOYnL8i5"
      }
    },
    {
      "cell_type": "markdown",
      "source": [
        "# **4rth answer**\n",
        "Increasing the number of iterations in cross-validation can help mitigate some of the challenges posed by having very small training or validation datasets, but it doesn't necessarily solve all the problems associated with small datasets. Here are some considerations:\n",
        "\n",
        "1. **Small Training Dataset**:\n",
        "\n",
        "Advantage of Increasing Iterations: When you have a small training dataset, each training fold in cross-validation contains a limited amount of data for model training. Increasing the number of iterations (e.g., using a higher 'k' in k-fold cross-validation) allows the model to be trained on different subsets of the data, which can help it capture more variations in the data and potentially improve the model's generalization.\n",
        "\n",
        "Limitation: While increasing iterations can help, it doesn't change the fundamental limitation of having a small training dataset. If your training data is very small, the model might still struggle to learn complex patterns, and the estimated performance might be overly optimistic.\n",
        "\n",
        "2. **Small Validation Dataset:**\n",
        "\n",
        "Advantage of Increasing Iterations: With a small validation dataset, the estimated model performance can be noisy and less reliable. Increasing the number of iterations can provide a more stable estimate of model performance because it averages results over multiple validation sets.\n",
        "\n",
        "Limitation: Similar to addressing a small training dataset, increasing iterations doesn't fundamentally change the fact that you have limited validation data. The estimated performance may still be sensitive to the specific data points in the validation sets.\n",
        "\n",
        "In cases of extremely small datasets, it's important to be cautious about overfitting, as models can easily memorize the training data when it's small. You might consider using simpler models, regularization techniques, or data augmentation (if applicable) to help improve generalization.\n",
        "\n",
        "In summary, increasing the number of iterations in cross-validation is a good practice when dealing with small datasets as it can provide more stable estimates of model performance. However, it doesn't eliminate the inherent challenges of having small amounts of training or validation data. Careful model selection, regularization, and data augmentation strategies are also essential considerations when working with very limited data.\n",
        "\n",
        "\n",
        "\n",
        "\n",
        "\n"
      ],
      "metadata": {
        "id": "XRTwn36GNW4A"
      }
    }
  ]
}